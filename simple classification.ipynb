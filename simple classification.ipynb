{
 "cells": [
  {
   "cell_type": "code",
   "execution_count": 1,
   "metadata": {},
   "outputs": [],
   "source": [
    "from PIL import Image\n",
    "import numpy as np\n",
    "import os\n",
    "import cv2"
   ]
  },
  {
   "cell_type": "code",
   "execution_count": 2,
   "metadata": {},
   "outputs": [],
   "source": [
    "import glob"
   ]
  },
  {
   "cell_type": "code",
   "execution_count": null,
   "metadata": {},
   "outputs": [],
   "source": []
  },
  {
   "cell_type": "code",
   "execution_count": 3,
   "metadata": {},
   "outputs": [],
   "source": [
    "all_files = sorted(glob.glob('un_resized_images/fidels/*/*.jpg', recursive=True))\n",
    "#all_files_2 = glob.glob('un_resized_2/fidels/*/*.jpg', recursive=True)"
   ]
  },
  {
   "cell_type": "code",
   "execution_count": null,
   "metadata": {},
   "outputs": [],
   "source": []
  },
  {
   "cell_type": "code",
   "execution_count": 4,
   "metadata": {},
   "outputs": [
    {
     "name": "stdout",
     "output_type": "stream",
     "text": [
      "[225]\n"
     ]
    },
    {
     "data": {
      "text/plain": [
       "(720, 446)"
      ]
     },
     "execution_count": 4,
     "metadata": {},
     "output_type": "execute_result"
    }
   ],
   "source": [
    "Image.open(all_files[0]).size\n",
    "\n",
    "j = []\n",
    "k = []\n",
    "for i in all_files:\n",
    "    #print(\"the size of \" , all_files.index(i), \"\\t\" , Image.open(i).size) \n",
    "    if(Image.open(i).size == Image.open(all_files[0]).size):\n",
    "        j.append(all_files.index(i))\n",
    "    else:\n",
    "        k.append(all_files.index(i))\n",
    "        \n",
    "\n",
    "#print(j)\n",
    "print(k)\n",
    "Image.open(all_files[225]).size"
   ]
  },
  {
   "cell_type": "code",
   "execution_count": 5,
   "metadata": {},
   "outputs": [],
   "source": [
    "all_x = []\n",
    "all_y = []\n"
   ]
  },
  {
   "cell_type": "code",
   "execution_count": null,
   "metadata": {},
   "outputs": [],
   "source": []
  },
  {
   "cell_type": "code",
   "execution_count": 6,
   "metadata": {},
   "outputs": [],
   "source": [
    "for i in all_files:\n",
    "    if(i == all_files[225]):\n",
    "        all_x.append(np.array(Image.open(i).convert('L')).reshape(-1, 1)[:315360, :])\n",
    "    else:\n",
    "        all_x.append(np.array(Image.open(i).convert('L')).reshape(-1, 1))\n",
    "    all_y.append(i.split('/')[2])\n"
   ]
  },
  {
   "cell_type": "code",
   "execution_count": null,
   "metadata": {},
   "outputs": [],
   "source": []
  },
  {
   "cell_type": "code",
   "execution_count": 7,
   "metadata": {},
   "outputs": [],
   "source": [
    "X = np.array(all_x)"
   ]
  },
  {
   "cell_type": "code",
   "execution_count": 8,
   "metadata": {},
   "outputs": [],
   "source": [
    "y = np.array(all_y).reshape(-1, 1)"
   ]
  },
  {
   "cell_type": "code",
   "execution_count": 9,
   "metadata": {},
   "outputs": [
    {
     "data": {
      "text/plain": [
       "(411, 315360, 1)"
      ]
     },
     "execution_count": 9,
     "metadata": {},
     "output_type": "execute_result"
    }
   ],
   "source": [
    "X.shape"
   ]
  },
  {
   "cell_type": "code",
   "execution_count": 10,
   "metadata": {},
   "outputs": [
    {
     "data": {
      "text/plain": [
       "(411, 315360)"
      ]
     },
     "execution_count": 10,
     "metadata": {},
     "output_type": "execute_result"
    }
   ],
   "source": [
    "X = X.squeeze()\n",
    "X.shape # shape of X = (m,n )"
   ]
  },
  {
   "cell_type": "code",
   "execution_count": 11,
   "metadata": {},
   "outputs": [
    {
     "data": {
      "text/plain": [
       "(411, 1)"
      ]
     },
     "execution_count": 11,
     "metadata": {},
     "output_type": "execute_result"
    }
   ],
   "source": [
    "y.shape # shape of lable y = (m, 1)"
   ]
  },
  {
   "cell_type": "code",
   "execution_count": 12,
   "metadata": {},
   "outputs": [
    {
     "data": {
      "text/plain": [
       "(411, 315360)"
      ]
     },
     "execution_count": 12,
     "metadata": {},
     "output_type": "execute_result"
    }
   ],
   "source": [
    "X.shape"
   ]
  },
  {
   "cell_type": "code",
   "execution_count": 13,
   "metadata": {},
   "outputs": [
    {
     "name": "stdout",
     "output_type": "stream",
     "text": [
      "00\n",
      "00\n",
      "00\n",
      "00\n",
      "00\n",
      "00\n",
      "00\n",
      "00\n",
      "00\n",
      "00\n",
      "00\n",
      "00\n",
      "00\n",
      "00\n",
      "00\n",
      "00\n",
      "00\n",
      "00\n",
      "00\n",
      "00\n",
      "00\n",
      "00\n",
      "00\n",
      "00\n",
      "00\n",
      "00\n",
      "00\n",
      "01\n",
      "01\n",
      "01\n",
      "01\n",
      "01\n",
      "01\n",
      "01\n",
      "01\n",
      "01\n",
      "01\n",
      "01\n",
      "01\n",
      "01\n",
      "01\n",
      "01\n",
      "01\n",
      "01\n",
      "01\n",
      "01\n",
      "01\n",
      "01\n",
      "01\n",
      "01\n",
      "01\n",
      "01\n",
      "01\n",
      "01\n",
      "01\n",
      "02\n",
      "02\n",
      "02\n",
      "02\n",
      "02\n",
      "02\n",
      "02\n",
      "02\n",
      "02\n",
      "02\n",
      "02\n",
      "02\n",
      "02\n",
      "02\n",
      "02\n",
      "02\n",
      "02\n",
      "02\n",
      "02\n",
      "02\n",
      "02\n",
      "02\n",
      "02\n",
      "02\n",
      "02\n",
      "02\n",
      "03\n",
      "03\n",
      "03\n",
      "03\n",
      "03\n",
      "03\n",
      "03\n",
      "03\n",
      "03\n",
      "03\n",
      "03\n",
      "03\n",
      "03\n",
      "03\n",
      "03\n",
      "03\n",
      "03\n",
      "03\n",
      "03\n",
      "03\n",
      "03\n",
      "03\n",
      "03\n",
      "03\n",
      "03\n",
      "03\n",
      "03\n",
      "03\n",
      "03\n",
      "03\n",
      "03\n",
      "03\n",
      "03\n",
      "03\n",
      "03\n",
      "03\n",
      "04\n",
      "04\n",
      "04\n",
      "04\n",
      "04\n",
      "04\n",
      "04\n",
      "04\n",
      "04\n",
      "04\n",
      "04\n",
      "04\n",
      "04\n",
      "04\n",
      "04\n",
      "04\n",
      "04\n",
      "04\n",
      "04\n",
      "04\n",
      "04\n",
      "04\n",
      "04\n",
      "04\n",
      "04\n",
      "04\n",
      "04\n",
      "05\n",
      "05\n",
      "05\n",
      "05\n",
      "05\n",
      "05\n",
      "05\n",
      "05\n",
      "05\n",
      "05\n",
      "05\n",
      "05\n",
      "05\n",
      "05\n",
      "05\n",
      "05\n",
      "05\n",
      "05\n",
      "05\n",
      "05\n",
      "05\n",
      "05\n",
      "05\n",
      "05\n",
      "05\n",
      "05\n",
      "06\n",
      "06\n",
      "06\n",
      "06\n",
      "06\n",
      "06\n",
      "06\n",
      "06\n",
      "06\n",
      "06\n",
      "06\n",
      "06\n",
      "06\n",
      "06\n",
      "06\n",
      "06\n",
      "06\n",
      "06\n",
      "06\n",
      "06\n",
      "06\n",
      "06\n",
      "06\n",
      "06\n",
      "06\n",
      "06\n",
      "06\n",
      "07\n",
      "07\n",
      "07\n",
      "07\n",
      "07\n",
      "07\n",
      "07\n",
      "07\n",
      "07\n",
      "07\n",
      "07\n",
      "07\n",
      "07\n",
      "07\n",
      "07\n",
      "07\n",
      "07\n",
      "07\n",
      "07\n",
      "07\n",
      "07\n",
      "07\n",
      "07\n",
      "07\n",
      "07\n",
      "07\n",
      "07\n",
      "08\n",
      "08\n",
      "08\n",
      "08\n",
      "08\n",
      "08\n",
      "08\n",
      "08\n",
      "08\n",
      "08\n",
      "08\n",
      "08\n",
      "08\n",
      "08\n",
      "08\n",
      "08\n",
      "08\n",
      "08\n",
      "08\n",
      "08\n",
      "08\n",
      "08\n",
      "08\n",
      "08\n",
      "08\n",
      "08\n",
      "08\n",
      "08\n",
      "08\n",
      "09\n",
      "09\n",
      "09\n",
      "09\n",
      "09\n",
      "09\n",
      "09\n",
      "09\n",
      "09\n",
      "09\n",
      "09\n",
      "09\n",
      "09\n",
      "09\n",
      "09\n",
      "09\n",
      "09\n",
      "09\n",
      "09\n",
      "09\n",
      "09\n",
      "09\n",
      "09\n",
      "09\n",
      "09\n",
      "09\n",
      "09\n",
      "09\n",
      "09\n",
      "10\n",
      "10\n",
      "10\n",
      "10\n",
      "10\n",
      "10\n",
      "10\n",
      "10\n",
      "10\n",
      "10\n",
      "10\n",
      "10\n",
      "10\n",
      "10\n",
      "10\n",
      "10\n",
      "10\n",
      "10\n",
      "10\n",
      "10\n",
      "10\n",
      "10\n",
      "10\n",
      "10\n",
      "11\n",
      "11\n",
      "11\n",
      "11\n",
      "11\n",
      "11\n",
      "11\n",
      "11\n",
      "11\n",
      "11\n",
      "11\n",
      "11\n",
      "11\n",
      "11\n",
      "11\n",
      "11\n",
      "11\n",
      "11\n",
      "11\n",
      "11\n",
      "11\n",
      "11\n",
      "11\n",
      "11\n",
      "11\n",
      "11\n",
      "11\n",
      "11\n",
      "11\n",
      "12\n",
      "12\n",
      "12\n",
      "12\n",
      "12\n",
      "12\n",
      "12\n",
      "12\n",
      "12\n",
      "12\n",
      "12\n",
      "12\n",
      "12\n",
      "12\n",
      "12\n",
      "12\n",
      "12\n",
      "12\n",
      "12\n",
      "12\n",
      "12\n",
      "12\n",
      "12\n",
      "12\n",
      "12\n",
      "12\n",
      "12\n",
      "12\n",
      "12\n",
      "12\n",
      "12\n",
      "13\n",
      "13\n",
      "13\n",
      "13\n",
      "13\n",
      "13\n",
      "13\n",
      "13\n",
      "13\n",
      "13\n",
      "13\n",
      "13\n",
      "13\n",
      "13\n",
      "13\n",
      "13\n",
      "13\n",
      "13\n",
      "13\n",
      "13\n",
      "13\n",
      "13\n",
      "13\n",
      "13\n",
      "13\n",
      "13\n",
      "13\n",
      "13\n",
      "13\n",
      "13\n",
      "13\n",
      "13\n",
      "13\n",
      "13\n",
      "13\n",
      "13\n",
      "13\n",
      "13\n",
      "13\n",
      "13\n",
      "13\n",
      "13\n",
      "13\n",
      "13\n",
      "13\n"
     ]
    }
   ],
   "source": [
    "y.shape\n",
    "y[0]\n",
    "for i in y:\n",
    "    print(i[0])"
   ]
  },
  {
   "cell_type": "code",
   "execution_count": 14,
   "metadata": {},
   "outputs": [],
   "source": [
    "y_to_b = []\n",
    "for i in y:\n",
    "    row = [0]*14\n",
    "    row[int(i[0])-1] = 1\n",
    "    y_to_b.append(row)\n",
    "y_to_b = np.array(y_to_b)"
   ]
  },
  {
   "cell_type": "code",
   "execution_count": 15,
   "metadata": {},
   "outputs": [
    {
     "name": "stdout",
     "output_type": "stream",
     "text": [
      "(411, 14)\n",
      "(411, 315360)\n"
     ]
    }
   ],
   "source": [
    "print(y_to_b.shape)\n",
    "print(X.shape)"
   ]
  },
  {
   "cell_type": "code",
   "execution_count": 16,
   "metadata": {},
   "outputs": [],
   "source": [
    "class model():\n",
    "    def __init__(self, X, num_class): \n",
    "        self.weights = np.random.rand(X.shape[1], num_class) \n",
    "        #self.weights = np.zeros((X.shape[1], num_class)) \n",
    "        self.biases = np.zeros(shape = (1, num_class))\n",
    "        self.X = X\n",
    "        self.num_class = num_class\n",
    "         \n",
    "    def forward(self, X, w, b):\n",
    "        return np.matmul(X, w) + b\n",
    "    \n",
    "    def softmax(self, z):\n",
    "        z -= np.max(z, axis = 1).reshape(-1, 1)\n",
    "        return np.exp(z) / np.array(np.sum(np.exp(z), axis = 1)).reshape(-1, 1)\n",
    "        \n",
    "    def cost(self, softmax, y):\n",
    "        #m = y.shape[0]\n",
    "        #cost = (- 1 / m) * np.sum(y * np.log(softmax) + (1 - y) * (np.log(1 - softmax)))  # compute cost\n",
    "        \n",
    "        #loss = (y * np.log(softmax)) + (1-y) * (np.log(1 - softmax))\n",
    "        loss = np.multiply(y, np.log(softmax)) + np.multiply(y, np.log(1 - softmax))\n",
    "        num_image = y.shape[0]\n",
    "        cost = - np.sum(loss) / num_image\n",
    "        cost = np.squeeze(cost)\n",
    "        return cost\n",
    "    \n",
    "    def gradient_cost(self, X, softmax, y):\n",
    "        loss = self.loss\n",
    "    #this loss1 is the cross entropy cost\n",
    "    \n",
    "    def cross_entropy_cost(self, softmax, y):\n",
    "        cost = -np.sum(np.multiply(y, np.log(softmax + 0.01)))\n",
    "        #cost = -np.sum(np.multiply(y, np.log(softmax[:, y])))\n",
    "        return cost\n",
    "    \n",
    "         \n",
    "    def backward(self, X, softmax, y):\n",
    "        m = X.shape[1]\n",
    "        dw = (1 / m) * np.dot(X.T, (softmax - y))\n",
    "        db = (1 / m) * np.sum(softmax - y)\n",
    "        return dw, db\n",
    "    \n",
    "    def update_parameters(self, dw, db, alpha, w_old, b_old):\n",
    "        w_new = w_old - alpha * dw\n",
    "        b_new = b_old - alpha * db \n",
    "        return w_new, b_new\n",
    "    \n",
    "    def update_parameters_2(self, X, cost, lr, w_old, b_old):\n",
    "        \n",
    "        w_new = w_old - np.dot(lr, np.multiply(X, cost))\n",
    "        b_new = b_old - np.dot(lr, np.sum(cost))\n",
    "        \n",
    "        return w_new, b_new\n"
   ]
  },
  {
   "cell_type": "code",
   "execution_count": 129,
   "metadata": {},
   "outputs": [],
   "source": [
    "num_class = 14\n",
    "model = model(X, num_class)\n",
    "w = model.weights\n",
    "b = model.biases\n"
   ]
  },
  {
   "cell_type": "code",
   "execution_count": 130,
   "metadata": {},
   "outputs": [
    {
     "name": "stdout",
     "output_type": "stream",
     "text": [
      "(315360, 14)\n",
      "[[0.09566345 0.41202512 0.98278465 ... 0.46277345 0.34680876 0.07586337]\n",
      " [0.13158312 0.98275836 0.20716539 ... 0.63627812 0.78645695 0.85093602]\n",
      " [0.10182015 0.5378875  0.44339566 ... 0.97062238 0.47733524 0.35978219]\n",
      " ...\n",
      " [0.95675694 0.2201281  0.46929072 ... 0.25646801 0.79764721 0.12060023]\n",
      " [0.739658   0.25367218 0.41362845 ... 0.17634689 0.33815526 0.7305169 ]\n",
      " [0.89049757 0.37436082 0.94773182 ... 0.57973606 0.63734868 0.21051034]]\n"
     ]
    }
   ],
   "source": [
    "print(w.shape)\n",
    "print(w)"
   ]
  },
  {
   "cell_type": "code",
   "execution_count": 131,
   "metadata": {},
   "outputs": [
    {
     "name": "stdout",
     "output_type": "stream",
     "text": [
      "(1, 14)\n",
      "[[0. 0. 0. 0. 0. 0. 0. 0. 0. 0. 0. 0. 0. 0.]]\n"
     ]
    }
   ],
   "source": [
    "print(b.shape)\n",
    "print(b)"
   ]
  },
  {
   "cell_type": "markdown",
   "metadata": {},
   "source": [
    "# The Forward Pass"
   ]
  },
  {
   "cell_type": "code",
   "execution_count": 132,
   "metadata": {},
   "outputs": [],
   "source": [
    "\n",
    "a = model.forward(X, w, b)\n"
   ]
  },
  {
   "cell_type": "code",
   "execution_count": 133,
   "metadata": {},
   "outputs": [
    {
     "name": "stdout",
     "output_type": "stream",
     "text": [
      "The shape of the output array becomes (411, 14)\n",
      "\n",
      "The forward output of all the image\n",
      "\n",
      "[[389491.86568379 395709.93407414 391388.81714302 ... 385761.18176725\n",
      "  392395.88639736 393672.58594741]\n",
      " [407668.07161205 412349.57568827 408277.5258752  ... 419032.06171371\n",
      "  407324.52681541 420944.90325016]\n",
      " [429656.06226668 431434.29654573 428408.02517499 ... 431971.8516439\n",
      "  431474.61281957 433762.99496916]\n",
      " ...\n",
      " [570063.28737604 577485.62852097 586202.47865217 ... 579950.71570941\n",
      "  570101.63527987 574080.84886496]\n",
      " [598548.2917533  609915.0946554  610397.19815486 ... 608256.87634827\n",
      "  604807.74059102 606285.90604652]\n",
      " [581947.71364235 582626.22825886 565899.08914219 ... 574384.64575462\n",
      "  580301.67932183 581747.25777775]]\n"
     ]
    }
   ],
   "source": [
    "print(\"The shape of the output array becomes\", a.shape)\n",
    "print(\"\\nThe forward output of all the image\\n\")\n",
    "print(a)\n",
    "#print(\"\\nThe forward output of the 20th image how much it is means the prediction through the 14 class\")\n",
    "#print(a[20])"
   ]
  },
  {
   "cell_type": "markdown",
   "metadata": {},
   "source": [
    "Expected Result\n",
    "\n",
    "The shape of the output array becomes (411, 14)\n",
    "\n",
    "The forward output of all the image\n",
    "\n",
    "The forward output of the 20th image how much it is means the prediction through the 14 class\n",
    "[474244.45342753 480183.38392286 471674.62918    478515.06985859\n",
    " 464605.62585467 477473.93646667 473011.59488537 478671.92048778\n",
    " 461979.22081921 470068.8819789  480149.49769161 469849.74504296\n",
    " 466378.11909758 472072.12665338]\n"
   ]
  },
  {
   "cell_type": "markdown",
   "metadata": {},
   "source": [
    "# The Softmax"
   ]
  },
  {
   "cell_type": "code",
   "execution_count": 134,
   "metadata": {},
   "outputs": [
    {
     "name": "stdout",
     "output_type": "stream",
     "text": [
      "The shape of the prediction of an array output becomes (411, 14)\n",
      "\n",
      " [[0. 0. 0. ... 0. 0. 0.]\n",
      " [0. 0. 0. ... 0. 0. 1.]\n",
      " [0. 0. 0. ... 0. 0. 0.]\n",
      " ...\n",
      " [0. 0. 1. ... 0. 0. 0.]\n",
      " [0. 0. 0. ... 0. 0. 0.]\n",
      " [0. 0. 0. ... 0. 0. 0.]]\n",
      "\n",
      "checking the softmax by summing their values\n",
      "1.0\n"
     ]
    }
   ],
   "source": [
    "softmax = model.softmax(a)\n",
    "print(\"The shape of the prediction of an array output becomes\", softmax.shape)\n",
    "print(\"\\n\", softmax)\n",
    "\n",
    "print(\"\\nchecking the softmax by summing their values\")\n",
    "print(np.sum(softmax[165]))"
   ]
  },
  {
   "cell_type": "code",
   "execution_count": 135,
   "metadata": {},
   "outputs": [
    {
     "name": "stdout",
     "output_type": "stream",
     "text": [
      "\n",
      "display all the prediction, changing the forward output of all the 14 class to the probabilit 1 or 0\n"
     ]
    },
    {
     "data": {
      "text/plain": [
       "'\\n#the class of the image you want to check whether your model predicts okey or not by checking with your file\\nim = int(input(\"\\nEnter here index of your image \"))\\n\\nprint(\"\\nThe prediction of the \", im , \"th image, which class it belongs by the probabilty of 1 or 0\")\\nprint(prediction[im])\\n\\npred_tolist = prediction[im].tolist()\\nclas = -1\\nfor i in pred_tolist:\\n    if i == 1:\\n        clas = pred_tolist.index(i)\\n\\nprint(\"\\nThe \", im, \"th image belongs to the\", clas+1, \"Class\")\\nImage.open(all_files[im])\\n'"
      ]
     },
     "execution_count": 135,
     "metadata": {},
     "output_type": "execute_result"
    }
   ],
   "source": [
    "\n",
    "\n",
    "print(\"\\ndisplay all the prediction, changing the forward output of all the 14 class to the probabilit 1 or 0\")\n",
    "#print(prediction)\n",
    "\n",
    "'''\n",
    "#the class of the image you want to check whether your model predicts okey or not by checking with your file\n",
    "im = int(input(\"\\nEnter here index of your image \"))\n",
    "\n",
    "print(\"\\nThe prediction of the \", im , \"th image, which class it belongs by the probabilty of 1 or 0\")\n",
    "print(prediction[im])\n",
    "\n",
    "pred_tolist = prediction[im].tolist()\n",
    "clas = -1\n",
    "for i in pred_tolist:\n",
    "    if i == 1:\n",
    "        clas = pred_tolist.index(i)\n",
    "\n",
    "print(\"\\nThe \", im, \"th image belongs to the\", clas+1, \"Class\")\n",
    "Image.open(all_files[im])\n",
    "'''"
   ]
  },
  {
   "cell_type": "markdown",
   "metadata": {},
   "source": [
    "# The Loss"
   ]
  },
  {
   "cell_type": "code",
   "execution_count": 137,
   "metadata": {},
   "outputs": [
    {
     "name": "stdout",
     "output_type": "stream",
     "text": [
      "the loss is nan\n"
     ]
    },
    {
     "name": "stderr",
     "output_type": "stream",
     "text": [
      "/usr/local/lib/python3.5/dist-packages/ipykernel_launcher.py:21: RuntimeWarning: divide by zero encountered in log\n",
      "/usr/local/lib/python3.5/dist-packages/ipykernel_launcher.py:21: RuntimeWarning: invalid value encountered in multiply\n"
     ]
    }
   ],
   "source": [
    "#loss = model.cross_entropy_cost(softmax, y_to_b)\n",
    "loss = model.cost(softmax, y_to_b)\n",
    "\n",
    "print(\"the loss is\", loss)\n"
   ]
  },
  {
   "cell_type": "markdown",
   "metadata": {},
   "source": [
    "# Back Propagation"
   ]
  },
  {
   "cell_type": "code",
   "execution_count": 309,
   "metadata": {},
   "outputs": [],
   "source": [
    "dw, db = model.backward(X, softmax, y_to_b)"
   ]
  },
  {
   "cell_type": "code",
   "execution_count": 310,
   "metadata": {},
   "outputs": [
    {
     "name": "stdout",
     "output_type": "stream",
     "text": [
      "[[0. 0. 0. ... 0. 0. 0.]\n",
      " [0. 0. 0. ... 0. 0. 0.]\n",
      " [0. 0. 0. ... 0. 0. 0.]\n",
      " ...\n",
      " [0. 0. 0. ... 0. 0. 0.]\n",
      " [0. 0. 0. ... 0. 0. 0.]\n",
      " [0. 0. 0. ... 0. 0. 0.]]\n",
      "(315360, 14)\n"
     ]
    }
   ],
   "source": [
    "print(dw)\n",
    "print(dw.shape)"
   ]
  },
  {
   "cell_type": "code",
   "execution_count": 311,
   "metadata": {},
   "outputs": [
    {
     "name": "stdout",
     "output_type": "stream",
     "text": [
      "[-3.48807712e-05  7.61039320e-05 -5.39066464e-05 -1.58548960e-05\n",
      " -2.53681517e-05 -2.21968544e-05  1.58547768e-05  2.85390362e-05\n",
      "  1.90258813e-05 -1.90271138e-05  1.10985287e-04 -1.58548960e-05\n",
      " -8.87874176e-05  2.53678336e-05]\n",
      "(14,)\n"
     ]
    }
   ],
   "source": [
    "print(db)\n",
    "print(db.shape)"
   ]
  },
  {
   "cell_type": "code",
   "execution_count": null,
   "metadata": {},
   "outputs": [],
   "source": []
  },
  {
   "cell_type": "markdown",
   "metadata": {},
   "source": [
    "# Update Prameters"
   ]
  },
  {
   "cell_type": "code",
   "execution_count": 329,
   "metadata": {},
   "outputs": [
    {
     "ename": "ValueError",
     "evalue": "operands could not be broadcast together with shapes (315360,14) (315360,411) ",
     "output_type": "error",
     "traceback": [
      "\u001b[0;31m---------------------------------------------------------------------------\u001b[0m",
      "\u001b[0;31mValueError\u001b[0m                                Traceback (most recent call last)",
      "\u001b[0;32m<ipython-input-329-d011bc4f83c1>\u001b[0m in \u001b[0;36m<module>\u001b[0;34m()\u001b[0m\n\u001b[1;32m      1\u001b[0m \u001b[0mu_w1\u001b[0m\u001b[0;34m,\u001b[0m \u001b[0mu_b1\u001b[0m \u001b[0;34m=\u001b[0m \u001b[0mmodel\u001b[0m\u001b[0;34m.\u001b[0m\u001b[0mupdate_parameters\u001b[0m\u001b[0;34m(\u001b[0m\u001b[0mdw\u001b[0m\u001b[0;34m,\u001b[0m \u001b[0mdb\u001b[0m\u001b[0;34m,\u001b[0m \u001b[0;36m0.01\u001b[0m\u001b[0;34m)\u001b[0m\u001b[0;34m\u001b[0m\u001b[0m\n\u001b[0;32m----> 2\u001b[0;31m \u001b[0mw\u001b[0m\u001b[0;34m,\u001b[0m \u001b[0mb\u001b[0m \u001b[0;34m=\u001b[0m \u001b[0mmodel\u001b[0m\u001b[0;34m.\u001b[0m\u001b[0mupdate_parameters_2\u001b[0m\u001b[0;34m(\u001b[0m\u001b[0mX\u001b[0m\u001b[0;34m,\u001b[0m \u001b[0mcost\u001b[0m\u001b[0;34m,\u001b[0m \u001b[0;36m0.01\u001b[0m\u001b[0;34m,\u001b[0m \u001b[0mw\u001b[0m\u001b[0;34m,\u001b[0m \u001b[0mb\u001b[0m\u001b[0;34m)\u001b[0m\u001b[0;34m\u001b[0m\u001b[0m\n\u001b[0m",
      "\u001b[0;32m<ipython-input-325-d72deb2668e5>\u001b[0m in \u001b[0;36mupdate_parameters_2\u001b[0;34m(self, X, cost, lr, w_old, b_old)\u001b[0m\n\u001b[1;32m     41\u001b[0m     \u001b[0;32mdef\u001b[0m \u001b[0mupdate_parameters_2\u001b[0m\u001b[0;34m(\u001b[0m\u001b[0mself\u001b[0m\u001b[0;34m,\u001b[0m \u001b[0mX\u001b[0m\u001b[0;34m,\u001b[0m \u001b[0mcost\u001b[0m\u001b[0;34m,\u001b[0m \u001b[0mlr\u001b[0m\u001b[0;34m,\u001b[0m \u001b[0mw_old\u001b[0m\u001b[0;34m,\u001b[0m \u001b[0mb_old\u001b[0m\u001b[0;34m)\u001b[0m\u001b[0;34m:\u001b[0m\u001b[0;34m\u001b[0m\u001b[0m\n\u001b[1;32m     42\u001b[0m \u001b[0;34m\u001b[0m\u001b[0m\n\u001b[0;32m---> 43\u001b[0;31m         \u001b[0mw_new\u001b[0m \u001b[0;34m=\u001b[0m \u001b[0mw_old\u001b[0m \u001b[0;34m-\u001b[0m \u001b[0mnp\u001b[0m\u001b[0;34m.\u001b[0m\u001b[0mdot\u001b[0m\u001b[0;34m(\u001b[0m\u001b[0mlr\u001b[0m\u001b[0;34m,\u001b[0m \u001b[0mnp\u001b[0m\u001b[0;34m.\u001b[0m\u001b[0mmultiply\u001b[0m\u001b[0;34m(\u001b[0m\u001b[0mX\u001b[0m\u001b[0;34m,\u001b[0m \u001b[0mcost\u001b[0m\u001b[0;34m)\u001b[0m\u001b[0;34m)\u001b[0m\u001b[0;34m.\u001b[0m\u001b[0mT\u001b[0m\u001b[0;34m\u001b[0m\u001b[0m\n\u001b[0m\u001b[1;32m     44\u001b[0m         \u001b[0mb_new\u001b[0m \u001b[0;34m=\u001b[0m \u001b[0mb_old\u001b[0m \u001b[0;34m-\u001b[0m \u001b[0mnp\u001b[0m\u001b[0;34m.\u001b[0m\u001b[0mdot\u001b[0m\u001b[0;34m(\u001b[0m\u001b[0mlr\u001b[0m\u001b[0;34m,\u001b[0m \u001b[0mnp\u001b[0m\u001b[0;34m.\u001b[0m\u001b[0msum\u001b[0m\u001b[0;34m(\u001b[0m\u001b[0mcost\u001b[0m\u001b[0;34m)\u001b[0m\u001b[0;34m)\u001b[0m\u001b[0;34m\u001b[0m\u001b[0m\n\u001b[1;32m     45\u001b[0m \u001b[0;34m\u001b[0m\u001b[0m\n",
      "\u001b[0;31mValueError\u001b[0m: operands could not be broadcast together with shapes (315360,14) (315360,411) "
     ]
    }
   ],
   "source": [
    "u_w1, u_b1 = model.update_parameters(dw, db, 0.01)\n",
    "w, b = model.update_parameters_2(X, cost, 0.01, w, b)"
   ]
  },
  {
   "cell_type": "code",
   "execution_count": 313,
   "metadata": {},
   "outputs": [
    {
     "name": "stdout",
     "output_type": "stream",
     "text": [
      "[[0.78607806 0.27039203 0.713321   ... 0.47925283 0.78858469 0.74270402]\n",
      " [0.20535854 0.74668004 0.31798676 ... 0.7847037  0.92165342 0.91258049]\n",
      " [0.73720568 0.36417796 0.58936748 ... 0.13458229 0.68764747 0.46957446]\n",
      " ...\n",
      " [0.07003252 0.61303119 0.32644886 ... 0.86479532 0.88016751 0.75066871]\n",
      " [0.10480946 0.36189196 0.70345137 ... 0.96389154 0.82944581 0.43711838]\n",
      " [0.29030474 0.91193542 0.35683578 ... 0.57791056 0.59492973 0.8302037 ]]\n",
      "(315360, 14)\n"
     ]
    }
   ],
   "source": [
    "print(u_w1)\n",
    "print(u_w1.shape)"
   ]
  },
  {
   "cell_type": "code",
   "execution_count": 314,
   "metadata": {},
   "outputs": [
    {
     "name": "stdout",
     "output_type": "stream",
     "text": [
      "[[ 3.48807712e-07 -7.61039320e-07  5.39066464e-07  1.58548960e-07\n",
      "   2.53681517e-07  2.21968544e-07 -1.58547768e-07 -2.85390362e-07\n",
      "  -1.90258813e-07  1.90271138e-07 -1.10985287e-06  1.58548960e-07\n",
      "   8.87874176e-07 -2.53678336e-07]]\n",
      "(1, 14)\n"
     ]
    }
   ],
   "source": [
    "print(u_b1)\n",
    "print(u_b1.shape)"
   ]
  },
  {
   "cell_type": "code",
   "execution_count": null,
   "metadata": {},
   "outputs": [],
   "source": []
  },
  {
   "cell_type": "markdown",
   "metadata": {},
   "source": [
    "# The Second forward pass"
   ]
  },
  {
   "cell_type": "code",
   "execution_count": 315,
   "metadata": {},
   "outputs": [],
   "source": [
    "forward2 = model.forward(X, u_w1, u_b1)"
   ]
  },
  {
   "cell_type": "code",
   "execution_count": 319,
   "metadata": {},
   "outputs": [],
   "source": [
    "softmax22 = model.softmax(forward2)"
   ]
  },
  {
   "cell_type": "code",
   "execution_count": 320,
   "metadata": {},
   "outputs": [],
   "source": [
    "loss22 = model.cross_entropy_cost(softmax22, y_to_b)"
   ]
  },
  {
   "cell_type": "code",
   "execution_count": 321,
   "metadata": {},
   "outputs": [
    {
     "name": "stdout",
     "output_type": "stream",
     "text": [
      "1772.7318130027202\n"
     ]
    }
   ],
   "source": [
    "print(loss22)"
   ]
  },
  {
   "cell_type": "markdown",
   "metadata": {},
   "source": [
    "# For Loops"
   ]
  },
  {
   "cell_type": "code",
   "execution_count": 113,
   "metadata": {},
   "outputs": [],
   "source": [
    "num_class = 14\n",
    "model = model(X, num_class)\n"
   ]
  },
  {
   "cell_type": "code",
   "execution_count": 114,
   "metadata": {},
   "outputs": [],
   "source": [
    "w = model.weights\n",
    "b = model.biases"
   ]
  },
  {
   "cell_type": "code",
   "execution_count": 116,
   "metadata": {},
   "outputs": [
    {
     "name": "stderr",
     "output_type": "stream",
     "text": [
      "/usr/local/lib/python3.5/dist-packages/ipykernel_launcher.py:18: RuntimeWarning: divide by zero encountered in log\n",
      "/usr/local/lib/python3.5/dist-packages/ipykernel_launcher.py:18: RuntimeWarning: invalid value encountered in multiply\n"
     ]
    },
    {
     "name": "stdout",
     "output_type": "stream",
     "text": [
      "The Loss in Step  0  is \t nan\n",
      "The Loss in Step  1  is \t nan\n",
      "The Loss in Step  2  is \t nan\n",
      "The Loss in Step  3  is \t nan\n",
      "The Loss in Step  4  is \t nan\n",
      "The Loss in Step  5  is \t nan\n",
      "The Loss in Step  6  is \t nan\n",
      "The Loss in Step  7  is \t nan\n",
      "The Loss in Step  8  is \t nan\n",
      "The Loss in Step  9  is \t nan\n"
     ]
    }
   ],
   "source": [
    "\n",
    "#print(\"initial weight\\n\\t\", w)\n",
    "#print(\"\\ninitial bias\\n\\t\", b )\n",
    "for i in range(10):\n",
    "    #print(\"\\nweight \", i , \"\\n\\t\", w)\n",
    "    #print(\"\\nbias \", i, \"\\n\\t\", b )\n",
    "    forward = model.forward(X, w, b)\n",
    "    soft = model.softmax(forward)\n",
    "    #cost = model.cross_entropy_cost(soft, y_to_b)\n",
    "    cost = model.cost(soft, y_to_b)\n",
    "    print(\"The Loss in Step \", i , \" is \\t\", cost)\n",
    "    dw, db = model.backward(X, soft, y_to_b)\n",
    "    w, b = model.update_parameters(dw, db, 0.001, w, b)\n",
    "    #w, b = model.update_parameters_2(X, cost, 0.01, w, b)\n",
    "    \n",
    "    "
   ]
  },
  {
   "cell_type": "code",
   "execution_count": null,
   "metadata": {},
   "outputs": [],
   "source": []
  },
  {
   "cell_type": "code",
   "execution_count": null,
   "metadata": {},
   "outputs": [],
   "source": []
  },
  {
   "cell_type": "code",
   "execution_count": null,
   "metadata": {},
   "outputs": [],
   "source": []
  },
  {
   "cell_type": "code",
   "execution_count": null,
   "metadata": {},
   "outputs": [],
   "source": []
  },
  {
   "cell_type": "code",
   "execution_count": null,
   "metadata": {},
   "outputs": [],
   "source": []
  },
  {
   "cell_type": "code",
   "execution_count": null,
   "metadata": {},
   "outputs": [],
   "source": []
  },
  {
   "cell_type": "code",
   "execution_count": null,
   "metadata": {},
   "outputs": [],
   "source": []
  },
  {
   "cell_type": "code",
   "execution_count": null,
   "metadata": {},
   "outputs": [],
   "source": []
  },
  {
   "cell_type": "code",
   "execution_count": null,
   "metadata": {},
   "outputs": [],
   "source": []
  },
  {
   "cell_type": "code",
   "execution_count": null,
   "metadata": {},
   "outputs": [],
   "source": []
  },
  {
   "cell_type": "code",
   "execution_count": 92,
   "metadata": {},
   "outputs": [],
   "source": [
    "import tensorflow as tf\n",
    "import numpy as np"
   ]
  },
  {
   "cell_type": "code",
   "execution_count": 93,
   "metadata": {},
   "outputs": [],
   "source": [
    "XX = tf.placeholder(tf.float32, shape = (411, 720*438*1))"
   ]
  },
  {
   "cell_type": "code",
   "execution_count": 94,
   "metadata": {},
   "outputs": [],
   "source": [
    "yy = tf.placeholder(tf.float32, shape=[411, 14])"
   ]
  },
  {
   "cell_type": "code",
   "execution_count": 95,
   "metadata": {},
   "outputs": [],
   "source": [
    "ww = tf.Variable(tf.zeros((720*438*1, 14)))"
   ]
  },
  {
   "cell_type": "code",
   "execution_count": 96,
   "metadata": {},
   "outputs": [],
   "source": [
    "bb = tf.Variable(tf.zeros((1, 14)))"
   ]
  },
  {
   "cell_type": "code",
   "execution_count": 97,
   "metadata": {},
   "outputs": [
    {
     "name": "stdout",
     "output_type": "stream",
     "text": [
      "(411, 315360)\n",
      "(411, 315360)\n"
     ]
    }
   ],
   "source": [
    "print(X.shape)\n",
    "print(XX.shape)"
   ]
  },
  {
   "cell_type": "code",
   "execution_count": 98,
   "metadata": {},
   "outputs": [
    {
     "name": "stdout",
     "output_type": "stream",
     "text": [
      "(315360, 14)\n",
      "(1, 14)\n"
     ]
    }
   ],
   "source": [
    "print(ww.shape)\n",
    "\n",
    "print(bb.shape)"
   ]
  },
  {
   "cell_type": "code",
   "execution_count": 99,
   "metadata": {},
   "outputs": [
    {
     "name": "stdout",
     "output_type": "stream",
     "text": [
      "(411, 14)\n"
     ]
    }
   ],
   "source": [
    "print(yy.shape)"
   ]
  },
  {
   "cell_type": "code",
   "execution_count": 100,
   "metadata": {},
   "outputs": [],
   "source": [
    "mat = tf.matmul(XX, ww)\n",
    "logit = tf.add(mat, bb)"
   ]
  },
  {
   "cell_type": "code",
   "execution_count": 101,
   "metadata": {},
   "outputs": [
    {
     "data": {
      "text/plain": [
       "TensorShape([Dimension(411), Dimension(14)])"
      ]
     },
     "execution_count": 101,
     "metadata": {},
     "output_type": "execute_result"
    }
   ],
   "source": [
    "logit.shape"
   ]
  },
  {
   "cell_type": "code",
   "execution_count": 106,
   "metadata": {},
   "outputs": [],
   "source": [
    "loss = tf.reduce_sum(tf.nn.softmax_cross_entropy_with_logits_v2(labels=yy, logits=logit))"
   ]
  },
  {
   "cell_type": "code",
   "execution_count": 103,
   "metadata": {},
   "outputs": [],
   "source": [
    "train = tf.train.GradientDescentOptimizer(0.0001).minimize(loss)"
   ]
  },
  {
   "cell_type": "code",
   "execution_count": 104,
   "metadata": {
    "scrolled": true
   },
   "outputs": [
    {
     "name": "stdout",
     "output_type": "stream",
     "text": [
      "1084.6522\n",
      "255266.97\n",
      "1000963.9\n",
      "3412283.2\n",
      "343078.38\n",
      "3390.4277\n",
      "0.0\n",
      "0.0\n",
      "0.0\n",
      "0.0\n",
      "0.0\n",
      "0.0\n",
      "0.0\n",
      "0.0\n",
      "0.0\n"
     ]
    }
   ],
   "source": [
    "with tf.Session() as sess:\n",
    "    sess.run(tf.global_variables_initializer())\n",
    "    for i in range(15):\n",
    "        losss,_ = sess.run([loss,train], feed_dict={XX:X, yy:y_to_b})\n",
    "        print(str(losss))"
   ]
  },
  {
   "cell_type": "code",
   "execution_count": 112,
   "metadata": {},
   "outputs": [],
   "source": [
    "def tf_loss(logits, labels):\n",
    "    cross_entropy_per_number = tf.nn.softmax_cross_entropy_with_logits_v2(labels = labels, logits = logits)\n",
    "    cross_entropy = tf.reduce_mean(cross_entropy_per_number)\n",
    "    tf.add_to_collection(\"loss\", cross_entropy)\n",
    "    return cross_entropy\n"
   ]
  },
  {
   "cell_type": "code",
   "execution_count": 114,
   "metadata": {},
   "outputs": [
    {
     "name": "stdout",
     "output_type": "stream",
     "text": [
      "Tensor(\"Mean_1:0\", shape=(), dtype=float32)\n"
     ]
    }
   ],
   "source": [
    "print(tf_loss(logit, "
   ]
  },
  {
   "cell_type": "code",
   "execution_count": 115,
   "metadata": {},
   "outputs": [],
   "source": [
    "def evaluation(logits, labels):\n",
    "    prediction = tf.argmax(logits, 2)\n",
    "    actual = tf.argmax(labels, 2)\n",
    "    equal = tf.equal(prediction, actual)\n",
    "    # equal = tf.reduce_all(equal, 1)\n",
    "    accuracy = tf.reduce_mean(tf.cast(equal, tf.float32), name=\"accuracy\")\n",
    "    return accuracy\n"
   ]
  },
  {
   "cell_type": "code",
   "execution_count": 118,
   "metadata": {},
   "outputs": [],
   "source": [
    "def train(loss, learning_rate=0.00001):\n",
    "    optimizer = tf.train.GradientDescentOptimizer(learning_rate)\n",
    "    train_op = optimizer.minimize(loss)\n",
    "    print(train_op)\n",
    "    return train_op"
   ]
  },
  {
   "cell_type": "code",
   "execution_count": 119,
   "metadata": {},
   "outputs": [
    {
     "name": "stdout",
     "output_type": "stream",
     "text": [
      "name: \"GradientDescent_14\"\n",
      "op: \"NoOp\"\n",
      "input: \"^GradientDescent_14/update_Variable_4/ApplyGradientDescent\"\n",
      "input: \"^GradientDescent_14/update_Variable_5/ApplyGradientDescent\"\n",
      "\n"
     ]
    },
    {
     "data": {
      "text/plain": [
       "<tf.Operation 'GradientDescent_14' type=NoOp>"
      ]
     },
     "execution_count": 119,
     "metadata": {},
     "output_type": "execute_result"
    }
   ],
   "source": [
    "train(tf_loss(logit, yy))"
   ]
  },
  {
   "cell_type": "code",
   "execution_count": null,
   "metadata": {},
   "outputs": [],
   "source": []
  }
 ],
 "metadata": {
  "kernelspec": {
   "display_name": "Python 2",
   "language": "python",
   "name": "python2"
  },
  "language_info": {
   "codemirror_mode": {
    "name": "ipython",
    "version": 3
   },
   "file_extension": ".py",
   "mimetype": "text/x-python",
   "name": "python",
   "nbconvert_exporter": "python",
   "pygments_lexer": "ipython3",
   "version": "3.5.2"
  }
 },
 "nbformat": 4,
 "nbformat_minor": 2
}
